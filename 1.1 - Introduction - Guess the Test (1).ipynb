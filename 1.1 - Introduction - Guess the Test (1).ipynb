{
 "cells": [
  {
   "cell_type": "markdown",
   "metadata": {},
   "source": [
    "# Master statistics and machine learning: Intuition, Math, code\n",
    "\n",
    "## Section 1.1 | Introduction | Guess the Test!\n",
    "\n",
    "This is based upon the course by **Mike X Cohen** on *Udemy.com*. "
   ]
  },
  {
   "cell_type": "markdown",
   "metadata": {},
   "source": [
    "In this exercise, you can set parameters and generate random samples that will comprise two distinct groups. A **two-sample t-test** determines whether the means of the two groups are the same, or are different.\n",
    "\n",
    "Finally, a violin plot demonstrates each group distribution visually."
   ]
  },
  {
   "cell_type": "code",
   "execution_count": 1,
   "metadata": {},
   "outputs": [],
   "source": [
    "# Import libraries\n",
    "import matplotlib.pyplot as plt\n",
    "import numpy as np\n",
    "import scipy.stats as stats"
   ]
  },
  {
   "cell_type": "markdown",
   "metadata": {},
   "source": [
    "### Specify parameter values"
   ]
  },
  {
   "cell_type": "code",
   "execution_count": 2,
   "metadata": {},
   "outputs": [],
   "source": [
    "# Specify the averages of the two groups\n",
    "average_group1 = 40\n",
    "average_group2 = 45\n",
    "\n",
    "# The amount of individual variability\n",
    "standard_deviation = 5.6\n",
    "\n",
    "# Sample sizes for each group\n",
    "samples_group1 = 40\n",
    "samples_group2 = 35"
   ]
  },
  {
   "cell_type": "markdown",
   "metadata": {},
   "source": [
    "You don't need to change the code below here!\n",
    "\n",
    "Although you are welcome to if you like ;)\n"
   ]
  },
  {
   "cell_type": "code",
   "execution_count": 5,
   "metadata": {},
   "outputs": [
    {
     "name": "stdout",
     "output_type": "stream",
     "text": [
      "[44.1189693  46.32853733 38.87576839 47.59882343 48.80912742 45.24571407\n",
      " 42.91817761 41.08192427 38.68377427 52.88157539 49.10493831 51.96371795\n",
      " 48.09054641 37.81657234 43.66805538 27.72639678 41.63803052 47.59953133\n",
      " 42.06271701 45.60517784 35.76461375 44.04569269 44.77800231 43.05091986\n",
      " 54.89190248 31.98688677 42.16713113 47.50875251 43.29994997 46.78431942\n",
      " 47.9583658  33.65138445 48.74674988 43.22847171 41.86213118]\n"
     ]
    }
   ],
   "source": [
    "# Generate the data\n",
    "data_group1 = np.random.randn(samples_group1)*standard_deviation + average_group1\n",
    "data_group2 = np.random.randn(samples_group2)*standard_deviation + average_group2\n",
    "\n",
    "# convenient collection of sample sizes\n",
    "ns = [ samples_group1, samples_group2 ]\n",
    "\n",
    "datalims = [np.min(np.hstack((data_group1,data_group2))), np.max(np.hstack((data_group1,data_group2)))]\n",
    "\n",
    "# Note 1: np.random.randn(n) generates n random numbers from the standard normal distribution\n",
    "# Note 2: numpy.random.rand(n) generates n number from the from a uniform distribution (in the range [0,1))"
   ]
  },
  {
   "cell_type": "code",
   "execution_count": 4,
   "metadata": {},
   "outputs": [
    {
     "data": {
      "image/png": "[encoded data removed]",
      "text/plain": [
       "<Figure size 432x288 with 2 Axes>"
      ]
     },
     "metadata": {
      "needs_background": "light"
     },
     "output_type": "display_data"
    }
   ],
   "source": [
    "## this section is for data visualization (don't need to modify)\n",
    "\n",
    "fig,ax = plt.subplots(1,2,figsize=(6,4))\n",
    "\n",
    "ax[0].violinplot(data_group1)\n",
    "ax[0].plot(1+np.random.randn(samples_group1)/10,data_group1,'ko')\n",
    "ax[0].set_ylim(datalims)\n",
    "ax[0].axis('off')\n",
    "\n",
    "ax[1].violinplot(data_group2)\n",
    "ax[1].plot(1+np.random.randn(samples_group2)/10,data_group2,'ko')\n",
    "ax[1].set_ylim(datalims)\n",
    "ax[1].axis('off')\n",
    "\n",
    "\n",
    "# 2-group t-test\n",
    "t,p = stats.ttest_ind(data_group1,data_group2)\n",
    "\n",
    "# Print the information to the title\n",
    "sigtxt = ('',' NOT')\n",
    "plt.title('The two groups are%s significantly different! t(%g)=%g, p=%g'%(\n",
    "           sigtxt[int(p>.05)],sum(ns)-2,np.round(t,2),np.round(p,3))\n",
    "         )\n",
    "\n",
    "plt.show()\n",
    "\n",
    "# Note: int(p > .05) returns True or False, then converting this to 1 or 0, depending on the value of p. \n",
    "# This is used as the index value in sigtxt[], and returns either '' or 'NOT', respectively  "
   ]
  }
 ],
 "metadata": {
  "kernelspec": {
   "display_name": "Python 3 (ipykernel)",
   "language": "python",
   "name": "python3"
  },
  "language_info": {
   "codemirror_mode": {
    "name": "ipython",
    "version": 3
   },
   "file_extension": ".py",
   "mimetype": "text/x-python",
   "name": "python",
   "nbconvert_exporter": "python",
   "pygments_lexer": "ipython3",
   "version": "3.9.12"
  }
 },
 "nbformat": 4,
 "nbformat_minor": 2
}
