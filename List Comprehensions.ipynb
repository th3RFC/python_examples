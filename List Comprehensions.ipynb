{
 "cells": [
  {
   "cell_type": "markdown",
   "id": "ebe0769d-31e7-47a2-845d-e818507ddc01",
   "metadata": {
    "tags": []
   },
   "source": [
    "## List Comprehension: Examples\n",
    "- Loops\n",
    "- Conditional statements\n",
    "- Strings"
   ]
  },
  {
   "cell_type": "markdown",
   "id": "c0bf6338-02ee-48e1-91aa-16f6a692ed39",
   "metadata": {
    "tags": []
   },
   "source": [
    "### Faster for Loops"
   ]
  },
  {
   "cell_type": "code",
   "execution_count": 1,
   "id": "ce24c9b9-7792-479c-8915-692eeee93608",
   "metadata": {},
   "outputs": [],
   "source": [
    "fruits = ['apples', 'bananas', 'strawberries']"
   ]
  },
  {
   "cell_type": "code",
   "execution_count": 2,
   "id": "77d1a0e9-ac25-4c16-96f1-29e5be61a605",
   "metadata": {},
   "outputs": [
    {
     "name": "stdout",
     "output_type": "stream",
     "text": [
      "apples\n",
      "bananas\n",
      "strawberries\n"
     ]
    }
   ],
   "source": [
    "for fruit in fruits:\n",
    "    print(fruit)"
   ]
  },
  {
   "cell_type": "code",
   "execution_count": 3,
   "id": "7a0c18b5-1230-4023-bafc-368e830610fe",
   "metadata": {},
   "outputs": [
    {
     "data": {
      "text/plain": [
       "['apples', 'bananas', 'strawberries']"
      ]
     },
     "execution_count": 3,
     "metadata": {},
     "output_type": "execute_result"
    }
   ],
   "source": [
    "[fruit for fruit in fruits]"
   ]
  },
  {
   "cell_type": "code",
   "execution_count": 4,
   "id": "ca209017-9933-468e-a9d8-a4c6e529783e",
   "metadata": {},
   "outputs": [
    {
     "data": {
      "text/plain": [
       "['APPLES', 'BANANAS', 'STRAWBERRIES']"
      ]
     },
     "execution_count": 4,
     "metadata": {},
     "output_type": "execute_result"
    }
   ],
   "source": [
    "new_fruits =[]\n",
    "for fruit in fruits:\n",
    "    fruit = fruit.upper()\n",
    "    new_fruits.append(fruit)\n",
    "\n",
    "new_fruits"
   ]
  },
  {
   "cell_type": "code",
   "execution_count": 5,
   "id": "37ee647e-8004-44d5-854f-93845d601973",
   "metadata": {},
   "outputs": [
    {
     "data": {
      "text/plain": [
       "['APPLES', 'BANANAS', 'STRAWBERRIES']"
      ]
     },
     "execution_count": 5,
     "metadata": {},
     "output_type": "execute_result"
    }
   ],
   "source": [
    "[fruit.upper() for fruit in fruits]"
   ]
  },
  {
   "cell_type": "markdown",
   "id": "5f5d1d1b-494e-423a-8031-e5a87ce08c5c",
   "metadata": {},
   "source": [
    "### Simplified Conditional Statements"
   ]
  },
  {
   "cell_type": "code",
   "execution_count": 6,
   "id": "522ba658-d283-43b8-aabb-a9751f278fe0",
   "metadata": {},
   "outputs": [],
   "source": [
    "bits = [False, False, True, False, True, True]"
   ]
  },
  {
   "cell_type": "code",
   "execution_count": 7,
   "id": "8781f8e9-91b0-4d24-afc6-ab7bb1f74d20",
   "metadata": {},
   "outputs": [
    {
     "data": {
      "text/plain": [
       "[0, 0, 1, 0, 1, 1]"
      ]
     },
     "execution_count": 7,
     "metadata": {},
     "output_type": "execute_result"
    }
   ],
   "source": [
    "[1 if b == True else 0 for b in bits]"
   ]
  },
  {
   "cell_type": "markdown",
   "id": "77c53732-9d2a-459d-98f9-0b524ff1b202",
   "metadata": {},
   "source": [
    "### String Manipulation"
   ]
  },
  {
   "cell_type": "code",
   "execution_count": 8,
   "id": "41c282b9-11da-4987-a435-60752eda36ae",
   "metadata": {},
   "outputs": [
    {
     "data": {
      "text/plain": [
       "'Hello My Name Is Roger'"
      ]
     },
     "execution_count": 8,
     "metadata": {},
     "output_type": "execute_result"
    }
   ],
   "source": [
    "my_string = \"HelloMyNameIsRoger\"\n",
    "my_string = \"\".join(\n",
    "    [i if i.islower() else \" \" + i for i in my_string]\n",
    ")[1:]\n",
    "\n",
    "my_string"
   ]
  },
  {
   "cell_type": "code",
   "execution_count": 9,
   "id": "aaecf93d-60a0-4fc3-b0dd-7c682dc75d55",
   "metadata": {},
   "outputs": [
    {
     "data": {
      "text/plain": [
       "'Hello my name is Roger'"
      ]
     },
     "execution_count": 9,
     "metadata": {},
     "output_type": "execute_result"
    }
   ],
   "source": [
    "my_string = \"HelloMyNameIsRoger\"\n",
    "my_string = \"\".join(\n",
    "    [i if i.islower() else \" \" + i.lower() if i in [\"M\", \"N\", \"I\"] else \" \" + i for i in my_string]\n",
    ")[1:]\n",
    "\n",
    "my_string"
   ]
  }
 ],
 "metadata": {
  "kernelspec": {
   "display_name": "Python 3 (ipykernel)",
   "language": "python",
   "name": "python3"
  },
  "language_info": {
   "codemirror_mode": {
    "name": "ipython",
    "version": 3
   },
   "file_extension": ".py",
   "mimetype": "text/x-python",
   "name": "python",
   "nbconvert_exporter": "python",
   "pygments_lexer": "ipython3",
   "version": "3.9.12"
  }
 },
 "nbformat": 0,
 "nbformat_minor": 5
}
